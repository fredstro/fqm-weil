{
 "cells": [
  {
   "cell_type": "markdown",
   "id": "39225831",
   "metadata": {},
   "source": [
    "# Examples of Lifting maps for Weil Representations #\n",
    "\n",
    "Note that this file requires a working installation of the \"fqm_weil\" package in the SageMath environment this notebook is running in. \n",
    "\n",
    "The purpose of this notebook is to provide algorithms for computing lifting maps given in the paper \n",
    "Stromberg, F, \"On liftings of modular forms and Weil representations\". \n",
    "\n",
    "Currently the only explicitly verified example in this file corresponds to the example given in the paper."
   ]
  },
  {
   "cell_type": "code",
   "execution_count": null,
   "id": "b106d79d",
   "metadata": {},
   "outputs": [],
   "source": [
    "import fqm_weil\n",
    "from fqm_weil import *\n",
    "from fqm_weil.modules import *\n",
    "from fqm_weil.modules.finite_quadratic_module.finite_quadratic_module_base import *\n",
    "from fqm_weil.modules.finite_quadratic_module.finite_quadratic_module_ambient import *\n",
    "from fqm_weil.modules.finite_quadratic_module.finite_quadratic_module_ambient import _A\n",
    "from fqm_weil.modules.weil_module.weil_module import WeilModule,WeilModuleElement\n",
    "from fqm_weil.modules.weil_module.utils import _entries\n",
    "from fqm_weil.modules.utils import factor_matrix_in_sl2z\n",
    "from fqm_weil.modular.utils import cusp_normalisers_and_stabilisers, exp_as_zN_power\n",
    "import logging\n",
    "import sys\n",
    "from IPython.display import Markdown as md\n",
    "logging.basicConfig(stream=sys.stdout, level=logging.ERROR)\n",
    "log = logging.getLogger(__name__)\n",
    "log.setLevel(logging.WARNING) # Change to logging.DEBUG to see debug info"
   ]
  },
  {
   "cell_type": "markdown",
   "id": "a1fce4ae",
   "metadata": {},
   "source": [
    "## Example 1\n",
    "\n",
    "We consider the finite quadratic module $D = A_2^t$ with $t=1$ or alternatively given by the genus symbol '$2_1$'."
   ]
  },
  {
   "cell_type": "code",
   "execution_count": null,
   "id": "49dbc799",
   "metadata": {},
   "outputs": [],
   "source": [
    "D = _A(2,1)\n",
    "print(D)\n",
    "md(f\"Genus symbol: {D.jordan_decomposition().genus_symbol()}\")"
   ]
  },
  {
   "cell_type": "code",
   "execution_count": null,
   "id": "376cb994",
   "metadata": {
    "scrolled": true
   },
   "outputs": [],
   "source": [
    "print(\"Level of D=\",D.level())\n",
    "group = Gamma0(D.level())\n",
    "cusps = group.cusps()\n",
    "cusps.sort(key= lambda x:x.denominator())\n",
    "print(\"Cusps:\")\n",
    "s = \"\"\n",
    "for i, x in enumerate(cusps):\n",
    "    w = 4 / gcd(4,x.denominator()**2)\n",
    "    s += f\"$\\\\mathfrak{{a}}_{i+1}$ = ${latex(x)}$ = ({x.numerator()} : {x.denominator()}), $w_{i+1}={w}$<br>\"\n",
    "md(s)"
   ]
  },
  {
   "cell_type": "markdown",
   "id": "f70cbd52",
   "metadata": {},
   "source": [
    "We choose cusp normalising maps $A_{\\mathfrak{a}}$ and cusp stabilisers $T_{\\mathfrak{a}}$:"
   ]
  },
  {
   "cell_type": "code",
   "execution_count": null,
   "id": "29d667fb",
   "metadata": {},
   "outputs": [],
   "source": [
    "normalisers_and_stabilisers = cusp_normalisers_and_stabilisers(group)\n",
    "s = r\"\"\n",
    "for i, cusp in enumerate(cusps):\n",
    "    A = normalisers_and_stabilisers['cusp_normalisers'][cusp]\n",
    "    s +=fr\"$A_{i+1} = A_{{ {latex(cusp)} }}= {latex(A)}$,&nbsp;&nbsp;\"\n",
    "    s +=fr\"$A^{{ -1}}_{{ {latex(cusp)} }}= {latex(A**-1)}$,&nbsp;&nbsp;\"\n",
    "    Tp = normalisers_and_stabilisers['cusp_stabilisers'][cusp]\n",
    "    s +=fr\"$T_{{ {latex(cusp)} }}= {latex(Tp)}$,<br>\"    \n",
    "md(s)"
   ]
  },
  {
   "cell_type": "markdown",
   "id": "deeef578",
   "metadata": {},
   "source": [
    "The Weil representation associated with $D$ acts on the group algebra $\\mathbb{C}[D]\\simeq \\mathbb{C}e_0 \\oplus  \\mathbb{C}e_{1/2}$\n",
    "and is defined by the action on the generators S, T of $SL_2(\\mathbb{Z})$\n",
    "\n",
    "$$\n",
    "\\rho_{D}(T)e_{\\gamma} =e(Q(\\gamma))e_{\\gamma}\n",
    "$$\n",
    "$$\n",
    "\\rho_{D}(S)e_{\\gamma} = \\frac{\\sigma(D)}{\\sqrt{|D|}}\\sum_{\\delta\\in D}e(-B(\\gamma,\\delta))e_{\\delta}\n",
    "$$\n",
    "Here the $\\sigma$-invariant $\\sigma(D)=e_8(-\\text{sign}(D))=\\left( \\frac{t}{2} \\right) e_8 (-t)=e_8(-1)$ if $t=1$.\n",
    "\n",
    "We can represent the action with matrices in $M_2( \\bf{Q}(\\zeta_{8}))$ together with a scaling factor: "
   ]
  },
  {
   "cell_type": "code",
   "execution_count": null,
   "id": "45ee999b",
   "metadata": {},
   "outputs": [],
   "source": [
    "W = WeilModule(D)\n",
    "S, T = SL2Z.gens()\n",
    "md(fr\"$\\rho_D(T)={latex(W.matrix(T))}$ <br> $\\rho_D(S)={latex(W.matrix(S))}$\")\n"
   ]
  },
  {
   "cell_type": "markdown",
   "id": "571a3872",
   "metadata": {},
   "source": [
    "Following the notation in the paper we let $\\xi(B)$ denote the top-left entry of $\\rho_D(B)$ and for each of the cusp stabilisers $T_{\\mathfrak{a}_i}$ we write $\\xi(T_{\\mathfrak{a}_i})=e(\\alpha_i)$ with $\\alpha_i \\in [0,1)$."
   ]
  },
  {
   "cell_type": "code",
   "execution_count": null,
   "id": "10a7a945",
   "metadata": {},
   "outputs": [],
   "source": [
    "# It doesn't matter which element of W is used to calculate \\xi\n",
    "w = WeilModule(D).an_element()\n",
    "s = \"\"\n",
    "for i, cusp in enumerate(cusps):\n",
    "    Tp = normalisers_and_stabilisers['cusp_stabilisers'][cusp]\n",
    "    xi = w.xi(Tp)\n",
    "    if xi == 1:\n",
    "        alpha = 0\n",
    "    else:\n",
    "        n = xi.parent().gen().multiplicative_order()\n",
    "        alpha = xi.list().index(1)/n # find the power of z8\n",
    "    s += f\"$\\\\alpha_{i+1}={alpha}$,  \"\n",
    "md(s)"
   ]
  },
  {
   "cell_type": "markdown",
   "id": "d827f3ac",
   "metadata": {},
   "source": [
    "From this we see that the cusps $\\mathfrak{a}_0=\\infty$ and $\\mathfrak{a}_2=0$ correspond to the component $0$ and $\\mathfrak{a}_1=1/2$ corresponds to the component $\\frac{1}{2}$ since $Q(0)=0$ and $Q(1/2)=1/4$. \n"
   ]
  },
  {
   "cell_type": "code",
   "execution_count": null,
   "id": "7590d8ec",
   "metadata": {},
   "outputs": [],
   "source": [
    "for x in D:\n",
    "    print(f\"Q({x})={D.Q(x)}\")"
   ]
  },
  {
   "cell_type": "markdown",
   "id": "2c645400",
   "metadata": {},
   "source": [
    "Let $F\\in\\mathcal{M}_{k}(\\Gamma_{0}(4),v_{\\theta}^{2k})$ and assume\n",
    "that $F|_{A_{i}}(\\tau)=\\sum b_{i}(n)q^{n}$ is the Fourier expansion\n",
    "of $F$ at the cusp $\\mathfrak{a}_{i}$ and let the lifted vector-valued modular form be\n",
    "$f=\\sum_{\\alpha\\in D}f_{\\alpha}e_{\\alpha}$ then the Fourier coefficients\n",
    "of $f_{\\alpha}$ are given by\n",
    "\\begin{eqnarray*}\n",
    "c(0,n) & = & \\Lambda_{\\infty}(0)b_{\\infty}(n) &+& \\Lambda_{1/2}(0)b_{1/2}(n)  &+& \\Lambda_{0}(0)b_{0}(4n), n\\in \\mathbb{Z}\\\\\n",
    "c\\left(1/2,n\\right) & = & \\Lambda_{\\infty}(1/2)b_{\\infty}(n) &+& \\Lambda_{1/2}(1/2)b_{1/2}(n)  &+& \\Lambda_{0}(1/2)b_{0}(4n), n\\in \\mathbb{Z}+\\frac{1}{4}\n",
    "\\end{eqnarray*}\n",
    "where\n",
    "$$\n",
    "\\Lambda_{i}\\left(\\alpha\\right)=\\sqrt{\\frac{\\left|D_{c_{i}}\\right|}{\\left|D\\right|}}\\xi\\left(A_{i}^{-1}\\right)w_{i}\\sum_{\\omega\\in D^{c_{i}*}\\cap D_{S_{0}}^{c_{i}*}\\cap\\{\\alpha+S_0\n",
    "\\}}   \\Phi_{S_0, a, c}(\\omega) e\\left(-dQ_{c_{i}}\\left(\\omega\\right)\\right),\n",
    "$$\n",
    "where\n",
    "$$\n",
    "\\Phi_{S_0, a, c}(\\omega) = \\sum_{\\gamma \\in c^{-1}(S_0)/D_c} e(-acQ(\\gamma) + B(\\omega,\\gamma)).\n",
    "$$\n",
    "\n",
    "\n",
    "To compute map explicitly we need\n",
    "$|D_{c_i}|=|\\{x\\in D\\mid c_i x = 0\\}|$, $\\xi(A_i^{-1})$, the set $\\omega\\in D^{c_{i}*}\\cap D_{S_{0}}^{c_{i}*}\\cap \\{\\alpha + S_0\\}$, the values of $\\Phi_{S_0, a, c}(\\omega)$ and $Q_{c_i}(\\omega)$ for all $\\omega$ in this set."
   ]
  },
  {
   "cell_type": "markdown",
   "id": "e5cd0c69",
   "metadata": {},
   "source": [
    "Recall that \n",
    "\n",
    "$D_c = \\{x\\in D\\mid c_i x = 0\\}$\n",
    "\n",
    "$D^c = \\{cx \\mid x \\in D \\}$\n",
    "\n",
    "$D^{c*} = \\{\\alpha \\in D \\mid cQ(\\gamma)+B(\\gamma,\\alpha)\\in \\mathbb{Z}, \\forall \\gamma \\in D_c\\}\n",
    " = x_c + D^c$\n",
    "where $x_2=\\frac{1}{2}$ and $x_c=0$ for all other $c$. \n",
    "\n",
    "If $S_0$ is an isotropic subgroup of $D$ then \n",
    "\n",
    "$D_{S_0}^{c*} = \\{\\alpha \\in D \\mid cQ(\\gamma)+B(\\gamma,\\alpha)\\in \\mathbb{Z}, \\forall \\gamma \\in c^{-1}S_0 \\cap S_0^{\\perp}\\}$\n",
    "\n",
    "For simplicity we assume that $S_0 = \\{0\\}$, in which case $\\Phi_{S_0,a,c}=1$ and $D_{S_0}^{c*} = D^{c*}$ and it is clear that $\\Lambda_i(\\alpha)=0$ unless $\\alpha \\in D^{c_i*}$"
   ]
  },
  {
   "cell_type": "markdown",
   "id": "24382191",
   "metadata": {},
   "source": [
    "We have $c_0 = 0$, $c_1=2$ and $c_3=1$ and we can see that "
   ]
  },
  {
   "cell_type": "code",
   "execution_count": null,
   "id": "091146e1",
   "metadata": {},
   "outputs": [],
   "source": [
    "s = \"\"\n",
    "for cusp in cusps:\n",
    "    c = cusp.denominator()\n",
    "    s += f\"$D_{c} = {list(D.kernel_subgroup(c))}$, \"\n",
    "    s += f\"$D^{c} = {list(D.power_subgroup(c))}$, \"\n",
    "    s += f\"$D^{{ {c} *}} = {list(D.power_subset_star(c))}$<br>\"\n",
    "md(s)"
   ]
  },
  {
   "cell_type": "code",
   "execution_count": null,
   "id": "c2aa462f",
   "metadata": {},
   "outputs": [],
   "source": [
    "s = \"\"\n",
    "for i, cusp in enumerate(cusps):\n",
    "    c = cusp.denominator()\n",
    "    for alpha in D:\n",
    "        s += fr\"${alpha} \\in D^{{ c_{i+1}}} = D^{{ {c} *}}: {alpha in D.power_subset_star(c)}$ <br>\"\n",
    "md(s)"
   ]
  },
  {
   "cell_type": "markdown",
   "id": "b5261029",
   "metadata": {},
   "source": [
    "This shows that $\\Lambda_{\\infty}(1/2)=\\Lambda_{1/2}(0)=0$ so that \n",
    "\\begin{eqnarray*}\n",
    "c(0,n) & = & \\Lambda_{\\infty}(0)b_{\\infty}(n) &+& \\Lambda_{0}(0)b_{0}(4n)\\\\\n",
    "c\\left(1/2,n\\right) & = & \\Lambda_{0}(1/2)b_{0}(n) &+& \\Lambda_{1/2}(1/2)b_{1/2}(n)  \n",
    "\\end{eqnarray*}"
   ]
  },
  {
   "cell_type": "code",
   "execution_count": null,
   "id": "48249649",
   "metadata": {},
   "outputs": [],
   "source": [
    "s = \"\"\n",
    "w = W(D.0)\n",
    "for i, cusp in enumerate(cusps):\n",
    "    Ai = normalisers_and_stabilisers['cusp_normalisers'][cusp]\n",
    "    s += f\"$\\\\xi(A_{i+1})={latex(w.xi(Ai**-1))}$<br>\"\n",
    "md(s)"
   ]
  },
  {
   "cell_type": "code",
   "execution_count": null,
   "id": "b95a1471",
   "metadata": {},
   "outputs": [],
   "source": [
    "s = \"\"\n",
    "for i, cusp in enumerate(cusps):\n",
    "    ci = cusp.denominator()\n",
    "    Ai = normalisers_and_stabilisers['cusp_normalisers'][cusp]\n",
    "    di = Ai[1][1]\n",
    "    for alpha in D.power_subset_star(ci):\n",
    "        DQc = D.Q_c(ci,alpha)\n",
    "        s += fr\"i={i+1}: $Q_{ci}({alpha}) = {DQc},\\; d_{i+1}={di}\\; \\Rightarrow\\; e(-d_i Q_{{c_i}})= {exp_as_zN_power(D.level(),-di*DQc)}$<br>\"\n",
    "md(s)"
   ]
  },
  {
   "cell_type": "markdown",
   "id": "198dbcbe",
   "metadata": {},
   "source": [
    "We can finally conclude that \n",
    "\n",
    "$\\Lambda_{\\infty}(0) = \\xi(A_{\\infty}^{-1}) = 1$,\n",
    "\n",
    "$\\Lambda_{0}(0) = \\sqrt{\\frac{1}{2}} \\cdot 4 \\cdot \\xi(A_{2}^{-1})  = 2\\sqrt{2}\\zeta_8 = 2 + 2i$,\n",
    "\n",
    "$\\Lambda_{0}(1/2) = \\sqrt{\\frac{1}{2}} \\cdot 4 \\cdot \\xi(A_{2}^{-1}) = 2\\sqrt{2}\\zeta_8 = 2 + 2i$,\n",
    "\n",
    "$\\Lambda_{1/2}(1/2) = \\sqrt{\\frac{2}{2}}\\xi(A_{3}^{-1}) = 1$,\n",
    "\n",
    "and the coefficients of the lifted form are given by \n",
    "\n",
    "\\begin{eqnarray*}\n",
    "c(0,n) & = & b_{\\infty}(n) &+& (2+2i) b_{0}(4n)\\\\\n",
    "c\\left(1/2,n\\right) & = & (2+2i) b_{0}(n) &+& b_{1/2}(n)  \n",
    "\\end{eqnarray*}\n",
    "\n"
   ]
  },
  {
   "cell_type": "markdown",
   "id": "0683ac09",
   "metadata": {},
   "source": [
    "For more general quadratic modules and isotropic subgroups the calculations are harder to carry out by hand \n",
    "but the functions below can be used:"
   ]
  },
  {
   "cell_type": "code",
   "execution_count": null,
   "id": "0e9d752b",
   "metadata": {},
   "outputs": [],
   "source": [
    "def Phi(D, S0,a,c,omega):\n",
    "    r\"\"\"\n",
    "    The function \\Phi_{S_0,a,c}(\\omega) as defined in Lemma 16 in [2023, Stromberg, On lifting maps...]\n",
    "    \n",
    "    INPUT:\n",
    "    \n",
    "    - ``D`` -- finite quadratic module\n",
    "    - ``S0`` -- isotropic subgroup of ``D``\n",
    "    - ``a`` -- integer\n",
    "    - ``c`` -- integer\n",
    "    - ``omega`` -- element of ``D``\n",
    "    \n",
    "    \"\"\"\n",
    "    if not S0.is_subgroup(D) or not S0.is_isotropic():\n",
    "        raise ValueError(\"S0 must be an isotropic subgroup of D\")\n",
    "    if omega not in D:\n",
    "        raise ValueError(\"omega must be an element of D\")\n",
    "    N = D.level()\n",
    "    zN = CyclotomicField(N).gen()\n",
    "    result = 0\n",
    "    for gamma in (S0 / c)/D.kernel_subgroup(c):\n",
    "        arg = -a*c*D.Q(gamma) + D.B(omega,gamma)\n",
    "        result += exp_as_zN_power(N,arg)\n",
    "    return result\n",
    "        \n",
    "def lifting_map_Lambdas(D, S0=None):\n",
    "    r\"\"\"\n",
    "    Compute the values of $\\Lambda_i(\\alpha)$\n",
    "    \n",
    "    INPUT:\n",
    "    \n",
    "    - ``D`` -- finite quadratic module\n",
    "    - ``S0`` -- isotropic subgroup of ``D``\n",
    "        \n",
    "    \"\"\"\n",
    "    if not S0:\n",
    "        S0 = D.subgroup()\n",
    "    assert S0.is_isotropic()\n",
    "    N = D.level()\n",
    "    zN = CyclotomicField(N).gen()\n",
    "    G = Gamma0(N)\n",
    "    normalisers_and_stabilisers = cusp_normalisers_and_stabilisers(group)\n",
    "    MN = lcm(N, 8)\n",
    "    CFMN = CyclotomicField(MN)\n",
    "    Lambda = {}\n",
    "    W=WeilModule(D)\n",
    "    for cusp in G.cusps():\n",
    "        Lambda[cusp] = {}\n",
    "        for alpha in D:\n",
    "            Lambda[cusp][alpha] = 0\n",
    "            \n",
    "    for cusp in G.cusps():\n",
    "        log.debug(\"*\"*50)\n",
    "        log.debug(f\"cusp={cusp}\")\n",
    "        a = cusp.numerator()\n",
    "        c = cusp.denominator()\n",
    "        w =  N / gcd(N,c**2)\n",
    "        Ai = normalisers_and_stabilisers['cusp_normalisers'][cusp]\n",
    "        log.debug(f\"c={c}\")\n",
    "        d = Ai[1][1]\n",
    "        log.debug(f\"d={d}\")\n",
    "        log.debug(f\"Ai^-1={Ai**-1}\")\n",
    "        A = D.power_subset_star(c)\n",
    "        log.debug(f\"D^c*={A}\")\n",
    "        B = D.power_subset_kernel_star(c,S0)\n",
    "        Dc = len(D.kernel_subgroup(c))\n",
    "        AA = set(A).intersection(B)\n",
    "        xi = W(D.0).xi(Ai**-1)\n",
    "        for alpha in D:\n",
    "            log.debug(\"-\"*20)\n",
    "            log.debug(f\"alpha={alpha}\")\n",
    "            C = S0 + alpha\n",
    "            for omega in AA.intersection(C):\n",
    "                log.debug(f\"c,omega={c,omega}\")\n",
    "                log.debug(f\"d*Q_c(omega)={d, D.Q_c(c,omega)}\")\n",
    "                arg = -d*D.Q_c(c,omega)\n",
    "                term = Phi(D, S0, a, c, omega)*exp_as_zN_power(N,arg)\n",
    "                Lambda[cusp][alpha] += term\n",
    "                #if alpha == 0 and a == 0:\n",
    "                log.debug(f\"term={omega,Phi(D,S0,a,c,omega),exp_as_zN_power(N,arg)}\")\n",
    "            try: \n",
    "                fac = CFMN(xi*w*(QQ(Dc)/QQ(D.order())).sqrt())\n",
    "            except TypeError:\n",
    "                fac = xi*w*sqrt(Dc/D)\n",
    "            Lambda[cusp][alpha] *= fac\n",
    "    # In the end try to convert    \n",
    "    return Lambda"
   ]
  },
  {
   "cell_type": "code",
   "execution_count": null,
   "id": "c794fe7b",
   "metadata": {},
   "outputs": [],
   "source": [
    "def lambdas_to_formula(D, Lambdas):\n",
    "    s = \"\"\n",
    "    N = D.level()\n",
    "    for alpha in D:\n",
    "        sl = []\n",
    "        for cusp in Gamma0(N).cusps():\n",
    "            L = Lambdas[cusp][alpha]\n",
    "#             if not L:\n",
    "#                 continue\n",
    "            w = N / gcd(N, cusp.denominator()**2)\n",
    "            if w == 1:\n",
    "                w = \"\"\n",
    "            if L == 1:\n",
    "                Lfactor = \"\"\n",
    "            else: \n",
    "                Lfactor = fr\"({latex(L)})\\cdot\"\n",
    "            sl.append(fr\"{Lfactor} b_{latex(cusp)}({w}n)\")\n",
    "        s +=  fr\"$c({latex(alpha)}, n) = \" + \"+\".join(sl) + \"$<br>\"\n",
    "    return s"
   ]
  },
  {
   "cell_type": "markdown",
   "id": "5d89e1ea",
   "metadata": {},
   "source": [
    "Test it on the example above:"
   ]
  },
  {
   "cell_type": "code",
   "execution_count": null,
   "id": "9eae1102",
   "metadata": {
    "scrolled": true
   },
   "outputs": [],
   "source": [
    "F = _A(2,1)\n",
    "lifting_map_Lambdas(F,F.subgroup())"
   ]
  },
  {
   "cell_type": "code",
   "execution_count": null,
   "id": "6324f0f0",
   "metadata": {},
   "outputs": [],
   "source": [
    "md(lambdas_to_formula(F, lifting_map_Lambdas(F,F.subgroup())))"
   ]
  },
  {
   "cell_type": "markdown",
   "id": "773fcb2e",
   "metadata": {},
   "source": [
    "Test the module $A_2^{3} = q_3^{-1}$ (corresponding to modular forms on $\\Gamma_0(4)$ of weight $\\frac{3}{2}\\pmod{2}$)"
   ]
  },
  {
   "cell_type": "code",
   "execution_count": null,
   "id": "a88e36c8",
   "metadata": {
    "scrolled": true
   },
   "outputs": [],
   "source": [
    "F = _A(2,3)\n",
    "lifting_map_Lambdas(F,F.subgroup())"
   ]
  },
  {
   "cell_type": "markdown",
   "id": "b17d292b",
   "metadata": {},
   "source": [
    "## Example 2\n",
    "A more complex example, also of level $4$. Consider $D=B_2 \\oplus A_2^{1}$"
   ]
  },
  {
   "cell_type": "code",
   "execution_count": null,
   "id": "350963af",
   "metadata": {},
   "outputs": [],
   "source": [
    "D = FiniteQuadraticModule('2^2.2_1')\n",
    "s = \"\"\n",
    "for alpha in D:\n",
    "     s += fr\"$Q({latex(alpha)})={latex(D.Q(alpha))}$<br>\"\n",
    "S0 = D.isotropic_subgroups()[1]\n",
    "print(\"S0=\",S0)\n",
    "md(s)"
   ]
  },
  {
   "cell_type": "code",
   "execution_count": null,
   "id": "f5f63f45",
   "metadata": {},
   "outputs": [],
   "source": [
    "normalisers_and_stabilisers = cusp_normalisers_and_stabilisers(Gamma0(D.level()))\n",
    "w = WeilModule(D).an_element()\n",
    "s = \"\"\n",
    "for i, cusp in enumerate(cusps):\n",
    "    Tp = normalisers_and_stabilisers['cusp_stabilisers'][cusp]\n",
    "    xi = w.xi(Tp)\n",
    "    if xi == 1:\n",
    "        alpha = 0\n",
    "    else:\n",
    "        n = xi.parent().gen().multiplicative_order()\n",
    "        alpha = xi.list().index(1)/n # find the power of z8\n",
    "    s += f\"$\\\\alpha_{i+1}={alpha}$,  \"\n",
    "md(s)"
   ]
  },
  {
   "cell_type": "markdown",
   "id": "e9a54d66",
   "metadata": {},
   "source": [
    "There are three insotropic subgroups:"
   ]
  },
  {
   "cell_type": "code",
   "execution_count": null,
   "id": "22c6707a",
   "metadata": {},
   "outputs": [],
   "source": [
    "D.isotropic_subgroups()"
   ]
  },
  {
   "cell_type": "markdown",
   "id": "32e7e177",
   "metadata": {},
   "source": [
    "Lift for the subgroup $\\langle 0\\rangle$"
   ]
  },
  {
   "cell_type": "code",
   "execution_count": null,
   "id": "88041b55",
   "metadata": {},
   "outputs": [],
   "source": [
    "md(lambdas_to_formula(D, lifting_map_Lambdas(D,D.isotropic_subgroups()[0])))"
   ]
  },
  {
   "cell_type": "markdown",
   "id": "7aa5d645",
   "metadata": {},
   "source": [
    "Lift for the subgroup $\\langle e_0\\rangle$"
   ]
  },
  {
   "cell_type": "code",
   "execution_count": null,
   "id": "e24cbeda",
   "metadata": {},
   "outputs": [],
   "source": [
    "md(lambdas_to_formula(D, lifting_map_Lambdas(D,D.isotropic_subgroups()[1])))"
   ]
  },
  {
   "cell_type": "markdown",
   "id": "965f79db",
   "metadata": {},
   "source": [
    "Lift for the subgroup $\\langle e_1\\rangle$"
   ]
  },
  {
   "cell_type": "code",
   "execution_count": null,
   "id": "65fbf201",
   "metadata": {},
   "outputs": [],
   "source": [
    "md(lambdas_to_formula(D, lifting_map_Lambdas(D,D.isotropic_subgroups()[2])))"
   ]
  }
 ],
 "metadata": {
  "kernelspec": {
   "display_name": "SageMath 10.0",
   "language": "sage",
   "name": "sagemath"
  },
  "language_info": {
   "codemirror_mode": {
    "name": "ipython",
    "version": 3
   },
   "file_extension": ".py",
   "mimetype": "text/x-python",
   "name": "python",
   "nbconvert_exporter": "python",
   "pygments_lexer": "ipython3",
   "version": "3.11.3"
  }
 },
 "nbformat": 4,
 "nbformat_minor": 5
}
